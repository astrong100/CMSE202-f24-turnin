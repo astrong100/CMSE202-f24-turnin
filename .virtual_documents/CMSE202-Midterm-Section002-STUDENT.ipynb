














### Put your code here:
#git add midterm
#git commit -m "Midterm Directory"
#git push






### Put your code here:



















### Put your code here:
import pandas as pd
import numpy as np
df = pd.read_csv('529_pollen.tsv')
df.head()






### Put your code here:







### Put your code here:







### Put your code here










### Put your code here



















# Put your code here







# Put your code here







# Put your code here







# Put your code here













### Put your code here
class Athlete:
    def __init__(self):
        self.exercise=
        self.intakeCalories=






### Put your code here













### Put your code here





### Put your code here





### Put your code here












