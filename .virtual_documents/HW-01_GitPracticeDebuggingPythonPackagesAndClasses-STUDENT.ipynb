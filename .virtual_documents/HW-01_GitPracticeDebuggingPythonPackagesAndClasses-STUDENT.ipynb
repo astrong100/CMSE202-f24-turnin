







































































# Import Pandas and matplotlib
import pandas as pd 





# Put code here





# Put code here








# Put code here





# Put code here











# Put code here














# Put code here





import PIL





### Put your code here






### Put your code here






### Put your code here






### Put your code here








# DO NOT EDIT THIS VERSION, this is the reference version of the code, do not edit this version.
class PetStoreTransaction:

    def __init__():
        self.person_name = ""
        self.pet_name = ""
        self.pet_weight=None
        self.review=None
        self.cost=None
        self.drop_time=None
        self.pick_time=None
        
    def checkin(person_name, pet_name, pet_weight):
        self.person_name = person_name
        self.pet_name = pet_name
        
    def checkout():
        pass
    
    def receipt():
        pass





# EDIT THIS VERSION OF THE PYTHON CLASS
# This should help to ensure that you can always fall back to the original version provided above, should you need to.


class PetStoreTransaction:

    def __init__(self):
        self.person_name = ""
        self.pet_name = ""
        self.pet_weight=None
        self.review=None
        self.cost=None
        self.drop_time=None
        self.pick_time=None
        
    def checkin(self, person_name, pet_name,):
        self.person_name = person_name
        self.pet_name = pet_name
        
        print(self.person_name, "checked in with ", self.pet_name, "at ", self.drop_time, ". The pet weighs ",self.pet_weight, "at dropoff")
        
    def checkout():
        pass
    
    def receipt():
        print(" Name: ", self.person_name,
              "\n Pet: ", self.pet_name,
              "\n Weight: ", self.pet_weight,
              "\n Cost: ", self.cost,
              "\n Drop-off time: ", self.drop_time,
              "\n Pick-up time: ", self.pick_time, 
              "\n Review: ", self.review)





## DO NOT CHANGE THIS CELL ##

# This is an example usage of the class "PetStoreTransaction" If it doesn't work, you need to make changes to the class.
test1 = PetStoreTransaction()
test1.checkin("Bob", "R2D2", "500lbs", "3PM")





# Put exploratory code here, if needed






# Put your code here







## DO NOT CHANGE THIS CELL ##

# receipt test code

test1.receipt()








### Put your code here












from IPython.display import HTML
HTML(
"""
<iframe 
	src="https://forms.office.com/Pages/ResponsePage.aspx?id=MHEXIi9k2UGSEXQjetVofbihPqVa-WtNjOGYhCwpOgRURVVEQjZJVkVTWFM5Q1hYNkhWUjhXUkJUTS4u" 
	width="800px" 
	height="600px" 
	frameborder="0" 
	marginheight="0" 
	marginwidth="0">
	Loading...
</iframe>
"""
)









