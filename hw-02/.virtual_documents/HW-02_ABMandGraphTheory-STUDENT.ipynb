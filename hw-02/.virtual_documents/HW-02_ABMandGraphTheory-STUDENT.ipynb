























# We will need these imports, so make sure to run this cell before moving on.
import matplotlib.pyplot as plt
from matplotlib.animation import PillowWriter
import numpy as np
from scipy.spatial import distance_matrix
from scipy.integrate import solve_ivp


# Complete the code for the Bird() class below based on the description in docstrings and the instructions in the comments.

class Bird:

    '''
    This class defines the attributes and methods for the bird class.

    Attributes
    ----------
    bird_type : string
        The type of the bird, e.g., hawk, pigeon, etc.
    mass : float
        The mass of the bird in kilograms.
    visual_field : float
        The visual field of the bird in degrees specified as an angle in degrees.
    wingspan : float
        wingspan of the bird in meters.
    max_speed : float
        bird's maximum flight speed in meters/second.
    alpha : float
        bird's self-propulsion rate in kg/second. 
    beta : float
        bird's drag strength in kg.s/m^2.

    Methods
    -------
    __init__()
    chirp()

    '''

    def __init__():
        pass

    def chirp():
        """
        Prints 'Chirp..Chirp'

        Parameters
        ----------
        None

        Returns
        -------
        None
        """
        pass





### DO NOT EDIT THIS CODE CELL
### DO NOT EDIT THIS CODE CELL
import numpy as np
import matplotlib.pyplot as plt
from IPython.display import display, clear_output
import time

class Flock:

    '''
    This class defines the attributes and methods for the flock class, which is composed of Bird objects. 

    Attributes
    ----------
    N : int
        The number of birds in the flock.
    bird_dict: Dictionary of Bird objects
        A dict of N objects of class Bird
    group_name: str
        What is a group of the selected birds typically called, e.g., brood of chickens, dole of doves, etc.
    states : numpy array
        N x 4 states of the flock, i.e., the positions (x,y) and velocities (xdot, ydot).
    velocities : numpy array
        velocities of the birds within the flock
    velocity : numpy array
        velocity of the birds within the flock
    Cr : float
        Repulsive potential amplitude.
    Ca : float
        Attractive potential amplitude.
    Lr : float
        Repulsive potential range.
    La : float
        Attractive potential range    
    '''

    def __init__(self, group_name, Cr, Ca, Lr, La, bird_list):
        
        self.group_name = group_name
        self.Cr = Cr
        self.Ca = Ca
        self.Lr = Lr
        self.La = La
        
        # initialize a list of N random locations and velocities uniformly distributed over the square [-1,1] x [-1,1] in the xy plane
        # first two columns are the (x,y) positions, thrid and fourth columns are velocities (xdot, ydot)
        rng = np.random.default_rng()

        # get the number of birds in bird_list, or initialize a default list of birds
        if bird_list is None:
            N = 10
            self.N = 10
            rand_states = rng.uniform(low=-1, high=1, size=(N, 4))
            # set the states (position and velocity)            
            self.states  = rand_states
            # initialize a dictionary of bird objects with the obtained random locations and velocities
            self.bird_dict = {k: [Bird(), self.states[k]] for k in range(N)}
        else:
            N = len(bird_list)
            self.N = N
            rand_states = rng.uniform(low=-1, high=1, size=(N, 4))
            # set the states (position and velocity)
            self.states  = rand_states
            # initialize a dictionary of bird objects with the obtained random locations and velocities
            self.bird_dict = {k: [bird_list[k], self.states[k]] for k in range(0,N)}

    def get_rel_placement_within_flock(self):

        '''
        This method returns a dictionary that includes the relative distance and heading (as a unit vector)
        between each of the birds in the flock.        

        Inputs
        ------
        points: numpy array

        returns
        -------
        A dictionary where the keys are integers representing each bird, and each value is a list that contains two vectors, one for the distances between the 
        keyed bird and all the other birds, while the second vector is the relative heading (as unit vectors) from the keyed bird to all the others. 
        '''

        G = {}
        matrix = distance_matrix(self.states[:, 0:2], self.states[:, 0:2])
        for i in range(0,len(matrix)):
            k_values = []
            distances = matrix[i]
            indexmin = np.argsort(distances)
            k_values = indexmin[1:]

            # For the ith bird, get unit vectors pointing from the ith bird to all the other birds. These are relative heading vectors.
            rel_heading = (self.states[k_values, 0:2] - self.states[i, 0:2]) / np.reshape(distances[k_values], (len(distances)-1,1))
            G[i] = [distances[k_values], rel_heading]
        return G


    def accept_bird_mover(self, bird_mover):

        '''
        This method allows the integrator to access the Flock class methods.

        Inputs
        ------
        bird_mover: BirdMover
            A concrete instance of the BirdMover class that implements an ODE solver to move the flock. 
            (This is an implementation of the visitor pattern).

        returns
        -------
        None

        '''

        bird_mover.simulate_flock(self)


    def animate_flock(self,simulation,t_vec, fig_bounds, metadata, save_as='animation.gif', dpi=1920/16, fps=15, labels=['x', 'y'],animate_what='locations'):
        '''
        This method animates either the positions (as scatter plot) or velocities (as quiver plots) of Flock objects.

        Inputs
        ------
        simulation: BirdMover
            A concrete instance of the BirdMover class that that contains a solution.         
        t_vec: numpy array
            An array that defines the time steps to use in the animation.
        fig_bounds: list
            [xmin, xmax, ymin, ymax] for the figure used in the animation
        metadata: dictionary
            Meta data to save with the anmication. For example, dict(title='file_name.gif', artist='artist_name')
        save_as: string
            file name used to save the animation.
        dpi: float
            Dots per Inch. The higher the dpi, the more detailed the animation will be.
        fps: int
            frames per second
        labels: list
            A list with two strings containing the labels to use for the x- and y-axis in the animation
        animate_what: string
            Either 'locations' to obtain a scatter plot of the flock or 'velocities' to obtain a quiver plot of the flock velocities. In both cases the plotted data is colored according to speed.
        
        returns
        -------
        None

        '''
        # initilize an empty figure
        fig1 = plt.figure(figsize=(16, 9), dpi=(1920/16))
        ax1 = fig1.add_subplot()

        # set the bounding box for the figure
        xmin, xmax, ymin, ymax = fig_bounds

        ax1.set_xlim([xmin, xmax])
        ax1.set_ylim([ymin, ymax])
        ax1.set_autoscale_on(False)

        # add figure labels
        plt.xlabel(labels[0])
        plt.ylabel(labels[1])

        # we will create a Gif using PillowWriter object
        writer = PillowWriter(fps, metadata=metadata)
        sct = None        
        with writer.saving(fig1, save_as, dpi):
            for tval in t_vec:
                z = simulation.solution.sol(tval)

                # get the position, instantanteous velocity, and speed of the birds at tval
                xpos= z[:2*N:2]
                ypos = z[1:2*N:2]
                xvel = z[2*N:4*N:2]
                yvel = z[2*N+1:4*N:2]
                speed = np.sqrt(xvel**2 + yvel**2)

                if sct is not None:
                    sct.remove()
                
                if animate_what == 'locations':
                    sct = plt.scatter(xpos, ypos,c=speed)
                elif animate_what == 'velocities':
                    sct = plt.quiver(xpos, ypos, xvel, yvel, speed)   
                else:                    
                    raise ValueError("Unreognized what_if option '{}'. Please use either 'positions' or 'velocities'".format(animate_what))
                    

                writer.grab_frame()
### DO NOT EDIT THIS CODE CELL
### DO NOT EDIT THIS CODE CELL











class BirdMOver:
    def __init__(self, tspan, y0=None, method='RK45',dense_output=True):
        # set integration parameters
        self.tspan = tspan
        self.y0 = y0
        self.method = method
        self.sol = None
        self.dense_output = dense_output
        self.solution = None


    def simulate_flock(self, flock):
        N = flock.N

        # set y0 from flock attributes, if not explicitly passed
        if self.y0 is None:
            # recover the states matrix
            states_matrix = np.vstack(list(flock.states))
            # now obtain the vector of states [x1, y1, x2, y2, ..., xN, yN, xdot1, ydot1, ..., xdotN, ydotN]
            self.y0 = np.reshape([np.ravel(states_matrix[:,0:2]),np.ravel(states_matrix[:,2:4])],(states_matrix.size,))    
        
        # extract alpha, beta, and m from each bird in the flock
        alpha_vec = np.zeros((flock.N, 1))
        beta_vec  = np.zeros((flock.N, 1))
        mass_vec = np.zeros((flock.N, 1))
        for k in range(N):
            alpha_vec[k] = flock.bird_dict[k][0].alpha
            beta_vec[k] = flock.bird_dict[k][0].beta
            mass_vec[k] = flock.bird_dict[k][0].mass

        # simulate, then call update Bird's concrete instance's state.
        solution = solve_ivp(fun=lambda t,y: self.Orsogna_model(t, y, flock, alpha_vec, beta_vec, mass_vec), t_span=self.tspan, y0=self.y0, method=self.method, dense_output=self.dense_output)

        self.solution = solution
        

    def Orsogna_model(self, t, y, flock, alpha_vec, beta_vec, mass_vec):

        N = flock.N
        # generate m, alpha, and beta matrices so we can write the right hand side of the differential eqs.
        mass_vec = np.ravel(np.tile(mass_vec, (2,1)), order='F')
        alpha_vec = np.ravel(np.tile(alpha_vec, (2,1)), order='F')
        beta_vec = np.ravel(np.tile(beta_vec, (2,1)), order='F')

        # get the speed |v_i|=np.sqrt(v_ix^2+v_iy^2) of each agent
        speeds = np.sqrt(np.sum(np.reshape(y[2*N:4*N], (N,2))**2,axis=1))
        speed_vec = np.ravel(np.tile(speeds, (2,1)), order='F')        

        # update flock states
        flock.states = np.concatenate([np.reshape(y[0:2*N], [N,2]), np.reshape(y[2*N:4*N], [N,2])], axis=1)

        # Get the dictionary with unit vectors from each bird to the rest of the flock
        G = flock.get_rel_placement_within_flock()

        # Get the generalized Morse potential gradient Del U(x)
        DelU = np.zeros((N,2))
        for k in range(N):
            # get distances and headings for the kth bird
            distances = G[k][0]
            headings = G[k][1]

            # compute DelU_k
            DelU[k] =  np.sum(-headings * np.expand_dims((-flock.Cr/flock.Lr * np.exp(-distances/flock.Lr) + flock.Ca/flock.La * np.exp(-distances/flock.La)),axis=-1),axis=0)

        dxdt = y[2*N:4*N]
        dxdotdt = 1/mass_vec * ((alpha_vec  - beta_vec * speed_vec**2) * y[2*N:4*N] - np.ravel(DelU))

        return np.ravel([dxdt, dxdotdt])











# Put your code for Question 2.4 here

# bird paramters
mass =   
bird_type = 
visual_field = 
max_speed = 
wing_span = 

alpha = 1  # bird's self-propulsion rate in kg/second.
beta = 0.5  # drag strength in kg.s/m^2.

# flock parameters
N = 40  # number of brids in the flock
group_name = 
Cr = 0.6
Lr = 1.2
Ca = 1
La = 1  

# Instantiate the Bird class
bird_list = []
for k in range(0, N):
    pass    





# Put your code for Question 2.5 here
## Answer

# Instantiate the flock
# <----------------------------------------------------------------------------------------------Instantiate the flock here




# Instantiate the integrator birdMover
# birdMover (integrator) parameters
# start/end time of the simulation in seconds. Transients approximately decay at mass/alpha, so we simulate twice as much.
tspan = [0, 30]  
simulation = BirdMOver(tspan)

# Perform the integration
simulation.simulate_flock(my_squad)

# We will now create an animation of the flock. Define the time points that will be used in the animation, and create the time vector.
nsteps = 150  # number of time vector points to evaluate the solution on
t_vec = np.linspace(tspan[0], tspan[1], nsteps)

# add metadata to the animation
metadata = dict(title='flock_movement.gif', artist='madScientist')
# define boundaries of the figure
fig_bounds = [-1, 1, -1, 1]  # [xmin, xmax, ymin, ymax]
# file name for the animation
file_name = 'flock_animation.gif'

# call the animate_flock method to animate flock locations
# <------------------------------------------------------------------------------------------------- call the animate_flock method here to animate positions


# let's create another animation for the velocity field of the flock. We will use nsteps and t_vec from above.
# add metadata to the animation
metadata = dict(title='flock_headings.gif', artist='madScientist')

# define boundaries of the figure
fig_bounds = [-1, 1, -1, 1]  # [xmin, xmax, ymin, ymax]
# file name for the animation
file_name = 'headings_animation.gif'

# call the animate_flock method
# <------------------------------------------------------------------------------------------------- call the animate_flock method here to animate velocities





















# Write your code here





# Write your code here





# Write your code here





# Write your code here





# Write your code here





# Fill out the following function

def find_itinerary():
    pass


# use this command to test your code
find_itinerary(DG, origin_nodeID=1, destination_nodeID=169164)








# Write your code here





# Write your code here





# Write your code here













from IPython.display import HTML
HTML(
"""
<iframe 
	src="https://forms.office.com/Pages/ResponsePage.aspx?id=MHEXIi9k2UGSEXQjetVofbihPqVa-WtNjOGYhCwpOgRUN1RKT0U4S1AxUFNMUlY5TlRXWDgwNVA3VS4u" 
	width="800px" 
	height="600px" 
	frameborder="0" 
	marginheight="0" 
	marginwidth="0">
	Loading...
</iframe>
"""
)



