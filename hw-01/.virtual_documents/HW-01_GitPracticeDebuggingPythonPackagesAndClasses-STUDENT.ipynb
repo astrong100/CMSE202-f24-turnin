







































































# Import Pandas and matplotlib
import pandas as pd 





# Put code here
!curl https://raw.githubusercontent.com/hoolagans/CMSE202_FS24/main/auto_price.csv -o auto_price.csv


df = pd.read_csv('auto_price.csv')
df.head(10)





# Put code here
df.describe()








# Put code here
new_df = df.filter(["length", "horsepower"])
new_df.head(4)





# Put code here
new_df.plot('length', 'horsepower', kind = 'scatter')











# Put code here
mask = new_df['horsepower'] > 160
mask_new_df = new_df[mask]
len(mask_new_df)














# Put code here
!pip install pillow





import PIL





### Put your code here
#!curl https://raw.githubusercontent.com/hoolagans/CMSE202_FS24/main/logo.png -o logo.png

from PIL import Image
im = Image.open("logo.png")





### Put your code here
im_rotate = im.rotate(180)





### Put your code here
im_rotate.save('logo_rotate.png')
#





### Put your code here
!git add logo_rotate.png
!git commit -a -m "Committing Part 3"
!git push








# DO NOT EDIT THIS VERSION, this is the reference version of the code, do not edit this version.
class PetStoreTransaction:

    def __init__():
        self.person_name = ""
        self.pet_name = ""
        self.pet_weight=None
        self.review=None
        self.cost=None
        self.drop_time=None
        self.pick_time=None
        
    def checkin(person_name, pet_name, pet_weight):
        self.person_name = person_name
        self.pet_name = pet_name
        
    def checkout():
        pass
    
    def receipt():
        pass





# EDIT THIS VERSION OF THE PYTHON CLASS
# This should help to ensure that you can always fall back to the original version provided above, should you need to.


class PetStoreTransaction:

    def __init__(self):
        self.person_name = ""
        self.pet_name = ""
        self.pet_weight=None
        self.review=None
        self.cost=None
        self.drop_time=None
        self.pick_time=None
        
    def checkin(self, person_name, pet_name, pet_weight, drop_time):
        self.person_name = person_name
        self.pet_name = pet_name
        self.pet_weight = pet_weight
        self.drop_time = drop_time
        print(self.person_name, "checked in with ", self.pet_name, "at ", self.drop_time, ". The pet weighs ",self.pet_weight, "at dropoff")
        
    def checkout(self, cost, pick_time, review):
        self.cost = cost
        self.pick_time = pick_time
        self.review = review
        print(self.pet_name, "was successfully groomed and picked up at ", self.pick_time, ". The total cost was ", self.cost, " and the service was rated ",self.review, ".")

    
    def receipt(self):
        print(" Name: ", self.person_name,
              "\n Pet: ", self.pet_name,
              "\n Weight: ", self.pet_weight,
              "\n Cost: ", self.cost,
              "\n Drop-off time: ", self.drop_time,
              "\n Pick-up time: ", self.pick_time, 
              "\n Review: ", self.review)





## DO NOT CHANGE THIS CELL ##

# This is an example usage of the class "PetStoreTransaction" If it doesn't work, you need to make changes to the class.
test1 = PetStoreTransaction()
test1.checkin("Bob", "R2D2", "500lbs", "3PM")





# Put exploratory code here, if needed
#Did not need to write any exploratory code





# Put your code here
test1 = PetStoreTransaction()
test1.checkin("Bob", "R2D2", "500lbs", "3PM")
test1.checkout("$499", "4PM", "8/10")





## DO NOT CHANGE THIS CELL ##

# receipt test code

test1.receipt()








### Put your code here
transaction1 = PetStoreTransaction()
transaction1.checkin("Gavin", "Lassie", "80lbs", "10 AM")
transaction1.checkout("$750", "7PM", "3/10")
transaction1.receipt()











from IPython.display import HTML
HTML(
"""
<iframe 
	src="https://forms.office.com/Pages/ResponsePage.aspx?id=MHEXIi9k2UGSEXQjetVofbihPqVa-WtNjOGYhCwpOgRURVVEQjZJVkVTWFM5Q1hYNkhWUjhXUkJUTS4u" 
	width="800px" 
	height="600px" 
	frameborder="0" 
	marginheight="0" 
	marginwidth="0">
	Loading...
</iframe>
"""
)









