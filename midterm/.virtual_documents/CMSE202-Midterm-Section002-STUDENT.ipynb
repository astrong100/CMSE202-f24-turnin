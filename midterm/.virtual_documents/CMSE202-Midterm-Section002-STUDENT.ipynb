














### Put your code here:
#git add midterm
#cd midterm
#git add CMSE202-Midterm-Section002-STUDENT.ipynb
#git commit -m "Midterm Directory"
#git push





### Put your code here:

#git clone https://github.com/astrong100/CMSE202-f24-turnin

















### Put your code here:
import pandas as pd
import numpy as np
import matplotlib.pyplot as plt
df = pd.read_csv("529_pollen.tsv", sep = "\t")
print(df.head(8))





### Put your code here:
df.describe()
ridge_mean = np.mean(df['RIDGE'])
print("Ridge Mean:", ridge_mean)
weight_mean = np.mean(df['WEIGHT'])
print("Weight Mean:", weight_mean)

r_max = np.max(df['RIDGE'])
print("Ridge Max:", r_max)
w_max = np.max(df['WEIGHT'])
print("Weight Max:", w_max)

r_min = np.min(df['RIDGE'])
print("Ridge Min:", r_min)
w_min = np.min(df['WEIGHT'])
print("Weight Min:", w_min)





### Put your code here:
print("Rows:", df.shape[0])






### Put your code here
mask = df["WEIGHT"] > 2
masked_df = df[mask]
print("Masked Rows:", masked_df.shape[0])









### Put your code here
plt.scatter(masked_df["RIDGE"], masked_df["WEIGHT"])
plt.xlabel("Ridge")
plt.ylabel("Weight")
plt.title("Ridge vs Weight")

















# Put your code here
!pip install sympy





# Put your code here
import sympy
from sympy import symbols
a, b, c = symbols("a b c")





# Put your code here
print((a + b) / c)





# Put your code here
from sympy import expand, sympify
str = "(x+3)*(x+1)/y"
sym = sympify(str)
print(sym)
print(expand(sym))











### Put your code here
class Athlete:
    def __init__(self):
        self.exercise=
        self.intakeCalories=






### Put your code here













### Put your code here





### Put your code here





### Put your code here












