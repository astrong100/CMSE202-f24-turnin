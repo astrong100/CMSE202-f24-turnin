








# Put all necessary imports here
import numpy as np
import pandas as pd
import seaborn as sns
import matplotlib.pyplot as plt
from sklearn.model_selection import train_test_split
from sklearn.datasets import make_classification
from sklearn import svm
from sklearn.metrics import classification_report
from sklearn.metrics import confusion_matrix, ConfusionMatrixDisplay
from sklearn.model_selection import GridSearchCV
from sklearn.decomposition import PCA

















# Put your code here
#!curl https://raw.githubusercontent.com/hoolagans/main/seeds.tsv -o seeds.tsv
#Side Note curl gives a data not found so I manually downlaoded it and moved it into the directory for hw04.
columns = ['F1', 'F2', 'F3', 'F4', 'F5', 'F6', 'F7', 'Class']
df = pd.read_csv("seeds.tsv", sep='\t', names = columns)





# Put your code here
sns.pairplot(df, hue = 'Class')











# Put your code here
labels = df['Class']
features = df.drop('Class', axis = 1)
print(labels)
print(features)








# Put your code here
#3 classes (1,2,3)
print(len(labels[labels == 1])) 
print(len(labels[labels == 2])) 
print(len(labels[labels == 3])) 









# Put your code here
train_vectors, test_vectors, train_labels, test_labels = train_test_split(features,
                                                                          labels, test_size=0.30, random_state=12)
print("Training Feature Shape:", train_vectors.shape)
print("Training Label Shape:", train_labels.shape)
print("Testing Feature Shape:", test_vectors.shape)
print("Testing Labels Shape:", test_labels.shape)





# Put your code here
model = svm.SVC(C = 1.0, kernel = "rbf")
fit = model.fit(train_vectors, train_labels)


pred_labels = fit.predict(test_vectors)

print(classification_report(test_labels, pred_labels, zero_division=0))
ConfusionMatrixDisplay.from_estimator(fit, test_vectors, test_labels);















# Put your code here
parameters = {'kernel' : ['linear', 'rbf', 'sigmoid'],
              'C': [10.0, 50.0, 100.0, 500.0, 1000.0, 5000.0, 10000.0],
              'gamma': [0.0005, 0.001, 0.005, 0.01]}
svc = svm.SVC()
pred_model = GridSearchCV(svc, parameters)
pred_model = pred_model.fit(train_vectors, train_labels)
print("Best estimator found by grid search:")
print(pred_model.best_estimator_)











# Put your code here

pred_labels2 = pred_model.predict(test_vectors)

print(classification_report(test_labels, pred_labels2, zero_division=0))
ConfusionMatrixDisplay.from_estimator(pred_model, test_vectors, test_labels);


















# Put your code here
n =  1
pca = PCA(n_components=n, whiten=True)
_ = pca.fit(train_vectors)
pca_train_vectors = pca.transform(train_vectors)
pca_test_vectors = pca.transform(test_vectors)

print(_.explained_variance_ratio_)











# Put your code here
parameters2 = {'kernel' : ['linear', 'rbf', 'sigmoid'],
              'C': [10.0, 50.0, 100.0, 500.0, 1000.0, 5000.0, 10000.0],
              'gamma': [0.0005, 0.001, 0.005, 0.01]}
svc = svm.SVC()
pred_model2 = GridSearchCV(svc, parameters2)
pred_model2 = pred_model2.fit(pca_train_vectors, train_labels)
print("Best estimator found by grid search:")
print(pred_model2.best_estimator_)
pred_labels2 = pred_model2.predict(pca_test_vectors)

print(classification_report(test_labels, pred_labels2, zero_division=0))
ConfusionMatrixDisplay.from_estimator(pred_model2, pca_test_vectors, test_labels);











# Put your code here















# Put your code here






# Put your code here






# Put your code here












# Put your code here


















from sklearn.linear_model import Perceptron





# Put your code here












# Put your code here






















