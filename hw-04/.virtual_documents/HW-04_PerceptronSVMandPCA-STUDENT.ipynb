








# Put all necessary imports here
import numpy as np
import pandas as pd
import seaborn as sns
import matplotlib.pyplot as plt

















# Put your code here
#!curl https://raw.githubusercontent.com/hoolagans/main/seeds.tsv -o seeds.tsv
#Side Note curl gives a data not found so I manually downlaoded it and moved it into the directory for hw04.
columns = ['F1', 'F2', 'F3', 'F4', 'F5', 'F6', 'F7', 'Class']
df = pd.read_csv("seeds.tsv", sep='\t', names = columns)





# Put your code here
sns.pairplot(df, hue = 'Class')











# Put your code here
labels = df['Class']
features = df.drop('Class', axis = 1)
print(labels)
print(features)








# Put your code here
#3 classes (1,2,3)
print(len(labels[labels == 1])) 
print(len(labels[labels == 2])) 
print(len(labels[labels == 3])) 









# Put your code here






# Put your code here















# Put your code here












# Put your code here


















# Put your code here












# Put your code here












# Put your code here















# Put your code here






# Put your code here






# Put your code here












# Put your code here


















from sklearn.linear_model import Perceptron





# Put your code here












# Put your code here






















