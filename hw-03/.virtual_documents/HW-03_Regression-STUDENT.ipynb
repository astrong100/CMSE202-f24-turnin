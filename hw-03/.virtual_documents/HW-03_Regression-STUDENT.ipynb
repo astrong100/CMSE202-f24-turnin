





























# Put your code here
import pandas as pd
red = pd.read_csv("winequality-red.csv", sep  = ';')
white = pd.read_csv("winequality-white.csv", sep = ';')
print(red.head())
print(red.tail())
print(white.head())
print(white.tail())





# Put your code here
import seaborn as sns
import matplotlib.pyplot as plt
corr = red.corr()
heatmap = sns.heatmap(corr)
plt.tight_layout()
heatmap.set_xticklabels(heatmap.get_xticklabels(), rotation=70) 
#Any higher rotation and they start to overlap





# Put your code here
# Put your code here
import seaborn as sns
import matplotlib.pyplot as plt
corr = white.corr()
heatmap = sns.heatmap(corr)
plt.tight_layout()
heatmap.set_xticklabels(heatmap.get_xticklabels(), rotation=70) 
#Any higher rotation and they start to overlap



#Differences in Features:
    # Both appear to have strong correlation between Free and total Sulfur Dioxide
    #Biggest difference is correlations for density.
    #Red wine has very strong postiive correlation between denisty and citric acid and citric acid and fixed acidity
    #White wine has strong negative correlation between alcohol and density and strong positive correlation between
    #residual sugar and density.
    #Annot = True used to determine this, but looks ugly so not included in final heatmaps.








# Put your code here











# Put your code here





# Put your code here











# Put your code here

import matplotlib.pyplot as plt
import numpy as np
def plot_line(slope, intercept, xmin, xmax, color):
    xline = np.array([xmin,xmax])
    yline = slope*xline+intercept
    plt.plot(xline,yline,color)











# Put your code here











# Put your code here























# Put your code here





# Put your code here





# Put your code here





# Put your code here


















