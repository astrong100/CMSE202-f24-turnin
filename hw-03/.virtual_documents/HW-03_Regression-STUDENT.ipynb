





























# Put your code here
import pandas as pd
red = pd.read_csv("winequality-red.csv", sep  = ';')
white = pd.read_csv("winequality-white.csv", sep = ';')
print(red.head())
print(red.tail())
print(white.head())
print(white.tail())





# Put your code here
import seaborn as sns
import matplotlib.pyplot as plt
corr = red.corr()
fig, ax = plt.subplots(1,1, figsize = (10,10) )
heatmap = sns.heatmap(corr, annot = True)
plt.tight_layout()
heatmap.set_xticklabels(heatmap.get_xticklabels(), rotation=70) 
#Any higher rotation and they start to overlap





# Put your code here
# Put your code here
import seaborn as sns
import matplotlib.pyplot as plt
corr = white.corr()
fig, ax = plt.subplots(1,1, figsize = (10,10) )
heatmap = sns.heatmap(corr, annot = True)
plt.tight_layout()
heatmap.set_xticklabels(heatmap.get_xticklabels(), rotation=70) 
#Any higher rotation and they start to overlap



#Differences in Features:
    # Both appear to have strong correlation between Free and total Sulfur Dioxide
    #Biggest difference is correlations for density.
    #Red wine has very strong postiive correlation between denisty and citric acid and citric acid and fixed acidity
    #White wine has strong negative correlation between alcohol and density and strong positive correlation between
    #residual sugar and density.
    #Annot = True used to determine this, but looks ugly so not included in final heatmaps.








# Put your code here
import statsmodels.api as sm
import numpy as np
wine = pd.concat([red, white])
y_ary = np.array(wine['fixed acidity'])
x_ary = np.array(wine['citric acid'])
x_ary = sm.add_constant(x_ary)
model = sm.OLS(y_ary, x_ary)
results = model.fit()
print(results.summary())
print(results.params)
print(results.pvalues)











# Put your code here
y_ary = np.array(red['fixed acidity'])
x_ary = np.array(red['citric acid'])
x_ary = sm.add_constant(x_ary)
model = sm.OLS(y_ary, x_ary)
results = model.fit()
print(results.summary())
print(results.params)





# Put your code here
y_ary = np.array(white['fixed acidity'])
x_ary = np.array(white['citric acid'])
x_ary = sm.add_constant(x_ary)
model = sm.OLS(y_ary, x_ary)
results = model.fit()
print(results.summary())
print(results.params)











# Put your code here

import matplotlib.pyplot as plt
import numpy as np
def plot_line(slope, intercept, xmin, xmax, color):
    xline = np.array([xmin,xmax])
    yline = slope*xline+intercept
    plt.plot(xline,yline,color)













# Put your code here











# Put your code here























# Put your code here





# Put your code here





# Put your code here





# Put your code here


















